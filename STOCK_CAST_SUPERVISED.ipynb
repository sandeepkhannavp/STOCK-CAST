{
  "nbformat": 4,
  "nbformat_minor": 0,
  "metadata": {
    "colab": {
      "provenance": []
    },
    "kernelspec": {
      "name": "python3",
      "display_name": "Python 3"
    },
    "language_info": {
      "name": "python"
    }
  },
  "cells": [
    {
      "cell_type": "code",
      "source": [
        "! pip install pycryptodome pycryptodomex\n",
        "! pip uninstall --yes pandas-datareader\n",
        "! pip install git+https://github.com/raphi6/pandas-datareader.git@ea66d6b981554f9d0262038aef2106dda7138316"
      ],
      "metadata": {
        "colab": {
          "base_uri": "https://localhost:8080/",
          "height": 697
        },
        "id": "BN2yRyq7K_O1",
        "outputId": "126736f5-a0ff-4fa3-f181-660d04373deb"
      },
      "execution_count": null,
      "outputs": [
        {
          "output_type": "stream",
          "name": "stdout",
          "text": [
            "Looking in indexes: https://pypi.org/simple, https://us-python.pkg.dev/colab-wheels/public/simple/\n",
            "Requirement already satisfied: pycryptodome in /usr/local/lib/python3.8/dist-packages (3.16.0)\n",
            "Requirement already satisfied: pycryptodomex in /usr/local/lib/python3.8/dist-packages (3.16.0)\n",
            "Found existing installation: pandas-datareader 0+untagged.811.gea66d6b\n",
            "Uninstalling pandas-datareader-0+untagged.811.gea66d6b:\n",
            "  Successfully uninstalled pandas-datareader-0+untagged.811.gea66d6b\n",
            "Looking in indexes: https://pypi.org/simple, https://us-python.pkg.dev/colab-wheels/public/simple/\n",
            "Collecting git+https://github.com/raphi6/pandas-datareader.git@ea66d6b981554f9d0262038aef2106dda7138316\n",
            "  Cloning https://github.com/raphi6/pandas-datareader.git (to revision ea66d6b981554f9d0262038aef2106dda7138316) to /tmp/pip-req-build-y56_k5ep\n",
            "  Running command git clone --filter=blob:none --quiet https://github.com/raphi6/pandas-datareader.git /tmp/pip-req-build-y56_k5ep\n",
            "  Running command git rev-parse -q --verify 'sha^ea66d6b981554f9d0262038aef2106dda7138316'\n",
            "  Running command git fetch -q https://github.com/raphi6/pandas-datareader.git ea66d6b981554f9d0262038aef2106dda7138316\n",
            "  Running command git checkout -q ea66d6b981554f9d0262038aef2106dda7138316\n",
            "  Resolved https://github.com/raphi6/pandas-datareader.git to commit ea66d6b981554f9d0262038aef2106dda7138316\n",
            "  Preparing metadata (setup.py) ... \u001b[?25l\u001b[?25hdone\n",
            "Requirement already satisfied: lxml in /usr/local/lib/python3.8/dist-packages (from pandas-datareader==0+untagged.811.gea66d6b) (4.9.2)\n",
            "Requirement already satisfied: pandas>=0.23 in /usr/local/lib/python3.8/dist-packages (from pandas-datareader==0+untagged.811.gea66d6b) (1.5.2)\n",
            "Requirement already satisfied: requests>=2.19.0 in /usr/local/lib/python3.8/dist-packages (from pandas-datareader==0+untagged.811.gea66d6b) (2.25.1)\n",
            "Requirement already satisfied: python-dateutil>=2.8.1 in /usr/local/lib/python3.8/dist-packages (from pandas>=0.23->pandas-datareader==0+untagged.811.gea66d6b) (2.8.2)\n",
            "Requirement already satisfied: numpy>=1.20.3 in /usr/local/lib/python3.8/dist-packages (from pandas>=0.23->pandas-datareader==0+untagged.811.gea66d6b) (1.21.6)\n",
            "Requirement already satisfied: pytz>=2020.1 in /usr/local/lib/python3.8/dist-packages (from pandas>=0.23->pandas-datareader==0+untagged.811.gea66d6b) (2022.7)\n",
            "Requirement already satisfied: certifi>=2017.4.17 in /usr/local/lib/python3.8/dist-packages (from requests>=2.19.0->pandas-datareader==0+untagged.811.gea66d6b) (2022.12.7)\n",
            "Requirement already satisfied: urllib3<1.27,>=1.21.1 in /usr/local/lib/python3.8/dist-packages (from requests>=2.19.0->pandas-datareader==0+untagged.811.gea66d6b) (1.24.3)\n",
            "Requirement already satisfied: idna<3,>=2.5 in /usr/local/lib/python3.8/dist-packages (from requests>=2.19.0->pandas-datareader==0+untagged.811.gea66d6b) (2.10)\n",
            "Requirement already satisfied: chardet<5,>=3.0.2 in /usr/local/lib/python3.8/dist-packages (from requests>=2.19.0->pandas-datareader==0+untagged.811.gea66d6b) (4.0.0)\n",
            "Requirement already satisfied: six>=1.5 in /usr/local/lib/python3.8/dist-packages (from python-dateutil>=2.8.1->pandas>=0.23->pandas-datareader==0+untagged.811.gea66d6b) (1.15.0)\n",
            "Building wheels for collected packages: pandas-datareader\n",
            "  Building wheel for pandas-datareader (setup.py) ... \u001b[?25l\u001b[?25hdone\n",
            "  Created wheel for pandas-datareader: filename=pandas_datareader-0+untagged.811.gea66d6b-py3-none-any.whl size=110763 sha256=2b3df84332cc3a22bea7eedeac51caf77dadc575b335e9a1abb151f49d43ad19\n",
            "  Stored in directory: /root/.cache/pip/wheels/24/b2/87/2c66651436c14de4e053ceb5b48684d11d8b79040bf6bcd790\n",
            "Successfully built pandas-datareader\n",
            "Installing collected packages: pandas-datareader\n",
            "Successfully installed pandas-datareader-0+untagged.811.gea66d6b\n"
          ]
        },
        {
          "output_type": "display_data",
          "data": {
            "application/vnd.colab-display-data+json": {
              "pip_warning": {
                "packages": [
                  "pandas_datareader"
                ]
              }
            }
          },
          "metadata": {}
        }
      ]
    },
    {
      "cell_type": "code",
      "source": [
        "# Remove Future Warnings\n",
        "import warnings\n",
        "warnings.simplefilter(action='ignore', category=FutureWarning)\n",
        "\n",
        "# General\n",
        "import numpy as np\n",
        "\n",
        "# Data Management\n",
        "import pandas as pd\n",
        "from sklearn.model_selection import train_test_split\n",
        "\n",
        "# Machine Learning\n",
        "from xgboost import XGBClassifier\n",
        "from sklearn.model_selection import RandomizedSearchCV, cross_val_score\n",
        "from sklearn.model_selection import RepeatedStratifiedKFold\n",
        "\n",
        "# Evaluation\n",
        "from sklearn.metrics import precision_score\n",
        "\n",
        "# Reporting\n",
        "import matplotlib.pyplot as plt"
      ],
      "metadata": {
        "id": "VJNYD3T5oy6t"
      },
      "execution_count": 1,
      "outputs": []
    },
    {
      "cell_type": "code",
      "source": [
        "df = pd.read_csv(\"BTC-USD.csv\")\n",
        "df.set_index(\"Date\", inplace=True)\n",
        "df.head(3)"
      ],
      "metadata": {
        "colab": {
          "base_uri": "https://localhost:8080/",
          "height": 320
        },
        "id": "zJxo8whuo_f3",
        "outputId": "43a6dce5-f39e-4b99-b608-278181a453b1"
      },
      "execution_count": 2,
      "outputs": [
        {
          "output_type": "execute_result",
          "data": {
            "text/plain": [
              "                Open      High       Low        Close    Volume   Returns  \\\n",
              "Date                                                                        \n",
              "2017-01-31  0.000878  0.053054  0.001615   970.403015  1.103895  0.054348   \n",
              "2017-02-01  0.054272  0.017587  0.054056   989.023010 -0.087932  0.019188   \n",
              "2017-02-02  0.019630  0.024675  0.012855  1011.799988 -0.028572  0.023030   \n",
              "\n",
              "               Range  Bench_C_Rets        RSI   RSI_Ret  ...       MA_21  DOW  \\\n",
              "Date                                                     ...                    \n",
              "2017-01-31  0.055442     -0.029463  60.205366  1.192634  ...  885.613522    1   \n",
              "2017-02-01  0.018926     -0.009863  63.109498  1.048237  ...  895.673808    2   \n",
              "2017-02-02  0.030816      0.012600  66.345006  1.051268  ...  905.529332    3   \n",
              "\n",
              "            Roll_Rets  Avg_Range  Returns_T1  Range_T1  RSI_Ret_T1  \\\n",
              "Date                                                                 \n",
              "2017-01-31   0.011408   0.057910    0.000964  0.003887    1.003974   \n",
              "2017-02-01   0.007132   0.057381    0.054348  0.055442    1.192634   \n",
              "2017-02-02   0.008542   0.057675    0.019188  0.018926    1.048237   \n",
              "\n",
              "            Returns_T2  Range_T2  RSI_Ret_T2  \n",
              "Date                                          \n",
              "2017-01-31   -0.002272  0.004646    0.991144  \n",
              "2017-02-01    0.000964  0.003887    1.003974  \n",
              "2017-02-02    0.054348  0.055442    1.192634  \n",
              "\n",
              "[3 rows x 21 columns]"
            ],
            "text/html": [
              "\n",
              "  <div id=\"df-ef44325e-2796-44e5-a659-39e10cdb855c\">\n",
              "    <div class=\"colab-df-container\">\n",
              "      <div>\n",
              "<style scoped>\n",
              "    .dataframe tbody tr th:only-of-type {\n",
              "        vertical-align: middle;\n",
              "    }\n",
              "\n",
              "    .dataframe tbody tr th {\n",
              "        vertical-align: top;\n",
              "    }\n",
              "\n",
              "    .dataframe thead th {\n",
              "        text-align: right;\n",
              "    }\n",
              "</style>\n",
              "<table border=\"1\" class=\"dataframe\">\n",
              "  <thead>\n",
              "    <tr style=\"text-align: right;\">\n",
              "      <th></th>\n",
              "      <th>Open</th>\n",
              "      <th>High</th>\n",
              "      <th>Low</th>\n",
              "      <th>Close</th>\n",
              "      <th>Volume</th>\n",
              "      <th>Returns</th>\n",
              "      <th>Range</th>\n",
              "      <th>Bench_C_Rets</th>\n",
              "      <th>RSI</th>\n",
              "      <th>RSI_Ret</th>\n",
              "      <th>...</th>\n",
              "      <th>MA_21</th>\n",
              "      <th>DOW</th>\n",
              "      <th>Roll_Rets</th>\n",
              "      <th>Avg_Range</th>\n",
              "      <th>Returns_T1</th>\n",
              "      <th>Range_T1</th>\n",
              "      <th>RSI_Ret_T1</th>\n",
              "      <th>Returns_T2</th>\n",
              "      <th>Range_T2</th>\n",
              "      <th>RSI_Ret_T2</th>\n",
              "    </tr>\n",
              "    <tr>\n",
              "      <th>Date</th>\n",
              "      <th></th>\n",
              "      <th></th>\n",
              "      <th></th>\n",
              "      <th></th>\n",
              "      <th></th>\n",
              "      <th></th>\n",
              "      <th></th>\n",
              "      <th></th>\n",
              "      <th></th>\n",
              "      <th></th>\n",
              "      <th></th>\n",
              "      <th></th>\n",
              "      <th></th>\n",
              "      <th></th>\n",
              "      <th></th>\n",
              "      <th></th>\n",
              "      <th></th>\n",
              "      <th></th>\n",
              "      <th></th>\n",
              "      <th></th>\n",
              "      <th></th>\n",
              "    </tr>\n",
              "  </thead>\n",
              "  <tbody>\n",
              "    <tr>\n",
              "      <th>2017-01-31</th>\n",
              "      <td>0.000878</td>\n",
              "      <td>0.053054</td>\n",
              "      <td>0.001615</td>\n",
              "      <td>970.403015</td>\n",
              "      <td>1.103895</td>\n",
              "      <td>0.054348</td>\n",
              "      <td>0.055442</td>\n",
              "      <td>-0.029463</td>\n",
              "      <td>60.205366</td>\n",
              "      <td>1.192634</td>\n",
              "      <td>...</td>\n",
              "      <td>885.613522</td>\n",
              "      <td>1</td>\n",
              "      <td>0.011408</td>\n",
              "      <td>0.057910</td>\n",
              "      <td>0.000964</td>\n",
              "      <td>0.003887</td>\n",
              "      <td>1.003974</td>\n",
              "      <td>-0.002272</td>\n",
              "      <td>0.004646</td>\n",
              "      <td>0.991144</td>\n",
              "    </tr>\n",
              "    <tr>\n",
              "      <th>2017-02-01</th>\n",
              "      <td>0.054272</td>\n",
              "      <td>0.017587</td>\n",
              "      <td>0.054056</td>\n",
              "      <td>989.023010</td>\n",
              "      <td>-0.087932</td>\n",
              "      <td>0.019188</td>\n",
              "      <td>0.018926</td>\n",
              "      <td>-0.009863</td>\n",
              "      <td>63.109498</td>\n",
              "      <td>1.048237</td>\n",
              "      <td>...</td>\n",
              "      <td>895.673808</td>\n",
              "      <td>2</td>\n",
              "      <td>0.007132</td>\n",
              "      <td>0.057381</td>\n",
              "      <td>0.054348</td>\n",
              "      <td>0.055442</td>\n",
              "      <td>1.192634</td>\n",
              "      <td>0.000964</td>\n",
              "      <td>0.003887</td>\n",
              "      <td>1.003974</td>\n",
              "    </tr>\n",
              "    <tr>\n",
              "      <th>2017-02-02</th>\n",
              "      <td>0.019630</td>\n",
              "      <td>0.024675</td>\n",
              "      <td>0.012855</td>\n",
              "      <td>1011.799988</td>\n",
              "      <td>-0.028572</td>\n",
              "      <td>0.023030</td>\n",
              "      <td>0.030816</td>\n",
              "      <td>0.012600</td>\n",
              "      <td>66.345006</td>\n",
              "      <td>1.051268</td>\n",
              "      <td>...</td>\n",
              "      <td>905.529332</td>\n",
              "      <td>3</td>\n",
              "      <td>0.008542</td>\n",
              "      <td>0.057675</td>\n",
              "      <td>0.019188</td>\n",
              "      <td>0.018926</td>\n",
              "      <td>1.048237</td>\n",
              "      <td>0.054348</td>\n",
              "      <td>0.055442</td>\n",
              "      <td>1.192634</td>\n",
              "    </tr>\n",
              "  </tbody>\n",
              "</table>\n",
              "<p>3 rows × 21 columns</p>\n",
              "</div>\n",
              "      <button class=\"colab-df-convert\" onclick=\"convertToInteractive('df-ef44325e-2796-44e5-a659-39e10cdb855c')\"\n",
              "              title=\"Convert this dataframe to an interactive table.\"\n",
              "              style=\"display:none;\">\n",
              "        \n",
              "  <svg xmlns=\"http://www.w3.org/2000/svg\" height=\"24px\"viewBox=\"0 0 24 24\"\n",
              "       width=\"24px\">\n",
              "    <path d=\"M0 0h24v24H0V0z\" fill=\"none\"/>\n",
              "    <path d=\"M18.56 5.44l.94 2.06.94-2.06 2.06-.94-2.06-.94-.94-2.06-.94 2.06-2.06.94zm-11 1L8.5 8.5l.94-2.06 2.06-.94-2.06-.94L8.5 2.5l-.94 2.06-2.06.94zm10 10l.94 2.06.94-2.06 2.06-.94-2.06-.94-.94-2.06-.94 2.06-2.06.94z\"/><path d=\"M17.41 7.96l-1.37-1.37c-.4-.4-.92-.59-1.43-.59-.52 0-1.04.2-1.43.59L10.3 9.45l-7.72 7.72c-.78.78-.78 2.05 0 2.83L4 21.41c.39.39.9.59 1.41.59.51 0 1.02-.2 1.41-.59l7.78-7.78 2.81-2.81c.8-.78.8-2.07 0-2.86zM5.41 20L4 18.59l7.72-7.72 1.47 1.35L5.41 20z\"/>\n",
              "  </svg>\n",
              "      </button>\n",
              "      \n",
              "  <style>\n",
              "    .colab-df-container {\n",
              "      display:flex;\n",
              "      flex-wrap:wrap;\n",
              "      gap: 12px;\n",
              "    }\n",
              "\n",
              "    .colab-df-convert {\n",
              "      background-color: #E8F0FE;\n",
              "      border: none;\n",
              "      border-radius: 50%;\n",
              "      cursor: pointer;\n",
              "      display: none;\n",
              "      fill: #1967D2;\n",
              "      height: 32px;\n",
              "      padding: 0 0 0 0;\n",
              "      width: 32px;\n",
              "    }\n",
              "\n",
              "    .colab-df-convert:hover {\n",
              "      background-color: #E2EBFA;\n",
              "      box-shadow: 0px 1px 2px rgba(60, 64, 67, 0.3), 0px 1px 3px 1px rgba(60, 64, 67, 0.15);\n",
              "      fill: #174EA6;\n",
              "    }\n",
              "\n",
              "    [theme=dark] .colab-df-convert {\n",
              "      background-color: #3B4455;\n",
              "      fill: #D2E3FC;\n",
              "    }\n",
              "\n",
              "    [theme=dark] .colab-df-convert:hover {\n",
              "      background-color: #434B5C;\n",
              "      box-shadow: 0px 1px 3px 1px rgba(0, 0, 0, 0.15);\n",
              "      filter: drop-shadow(0px 1px 2px rgba(0, 0, 0, 0.3));\n",
              "      fill: #FFFFFF;\n",
              "    }\n",
              "  </style>\n",
              "\n",
              "      <script>\n",
              "        const buttonEl =\n",
              "          document.querySelector('#df-ef44325e-2796-44e5-a659-39e10cdb855c button.colab-df-convert');\n",
              "        buttonEl.style.display =\n",
              "          google.colab.kernel.accessAllowed ? 'block' : 'none';\n",
              "\n",
              "        async function convertToInteractive(key) {\n",
              "          const element = document.querySelector('#df-ef44325e-2796-44e5-a659-39e10cdb855c');\n",
              "          const dataTable =\n",
              "            await google.colab.kernel.invokeFunction('convertToInteractive',\n",
              "                                                     [key], {});\n",
              "          if (!dataTable) return;\n",
              "\n",
              "          const docLinkHtml = 'Like what you see? Visit the ' +\n",
              "            '<a target=\"_blank\" href=https://colab.research.google.com/notebooks/data_table.ipynb>data table notebook</a>'\n",
              "            + ' to learn more about interactive tables.';\n",
              "          element.innerHTML = '';\n",
              "          dataTable['output_type'] = 'display_data';\n",
              "          await google.colab.output.renderOutput(dataTable, element);\n",
              "          const docLink = document.createElement('div');\n",
              "          docLink.innerHTML = docLinkHtml;\n",
              "          element.appendChild(docLink);\n",
              "        }\n",
              "      </script>\n",
              "    </div>\n",
              "  </div>\n",
              "  "
            ]
          },
          "metadata": {},
          "execution_count": 2
        }
      ]
    },
    {
      "cell_type": "markdown",
      "source": [
        "Add Prediction Target"
      ],
      "metadata": {
        "id": "1cuz2yqupGF-"
      }
    },
    {
      "cell_type": "code",
      "source": [
        "# Specify Target\n",
        "df.loc[df[\"Range\"].shift(-1) > df[\"Avg_Range\"], \"TARGET\"] = 1\n",
        "df.loc[df[\"Range\"].shift(-1) <= df[\"Avg_Range\"], \"TARGET\"] = 0"
      ],
      "metadata": {
        "id": "uvDxxHpepDBI"
      },
      "execution_count": 3,
      "outputs": []
    },
    {
      "cell_type": "code",
      "source": [
        "# Check for NaNs\n",
        "nan_location = np.where(np.isnan(df))\n",
        "# Fill NA\n",
        "df[\"TARGET\"].fillna(0, inplace=True)\n",
        "df.tail()"
      ],
      "metadata": {
        "colab": {
          "base_uri": "https://localhost:8080/",
          "height": 418
        },
        "id": "RKMfVdRVpJ1z",
        "outputId": "0dc5b465-cbd0-4859-a6b7-2020cf1f3489"
      },
      "execution_count": 4,
      "outputs": [
        {
          "output_type": "execute_result",
          "data": {
            "text/plain": [
              "                Open      High       Low         Close    Volume   Returns  \\\n",
              "Date                                                                         \n",
              "2022-05-28 -0.021487 -0.018129  0.008047  28814.900391 -0.029042  0.006544   \n",
              "2022-05-29  0.013879  0.023707  0.010035  29445.957031 -0.490594  0.021900   \n",
              "2022-05-30  0.014593  0.083111  0.016035  31726.390625  1.170788  0.077445   \n",
              "2022-05-31  0.077454  0.009397  0.067657  31792.310547 -0.146132  0.002078   \n",
              "2022-06-01  0.002165 -0.009072 -0.057040  29799.080078  0.226536 -0.062695   \n",
              "\n",
              "               Range  Bench_C_Rets        RSI   RSI_Ret  ...  DOW  Roll_Rets  \\\n",
              "Date                                                     ...                   \n",
              "2022-05-28  0.009117     32.894788  37.238957  1.027560  ...    5  -0.298233   \n",
              "2022-05-29  0.022777     33.634047  40.613855  1.090628  ...    6  -0.247068   \n",
              "2022-05-30  0.090298     36.313300  50.890862  1.253042  ...    0  -0.146443   \n",
              "2022-05-31  0.030803     36.391116  51.154006  1.005171  ...    1  -0.164364   \n",
              "2022-06-01  0.083239     34.041939  43.554422  0.851437  ...    2  -0.228625   \n",
              "\n",
              "            Avg_Range  Returns_T1  Range_T1  RSI_Ret_T1  Returns_T2  Range_T2  \\\n",
              "Date                                                                            \n",
              "2022-05-28   0.056286   -0.021856  0.036020    0.949541   -0.009984  0.055632   \n",
              "2022-05-29   0.055605    0.006544  0.009117    1.027560   -0.021856  0.036020   \n",
              "2022-05-30   0.057666    0.021900  0.022777    1.090628    0.006544  0.009117   \n",
              "2022-05-31   0.057768    0.077445  0.090298    1.253042    0.021900  0.022777   \n",
              "2022-06-01   0.059741    0.002078  0.030803    1.005171    0.077445  0.090298   \n",
              "\n",
              "            RSI_Ret_T2  TARGET  \n",
              "Date                            \n",
              "2022-05-28    0.977232     0.0  \n",
              "2022-05-29    0.949541     1.0  \n",
              "2022-05-30    1.027560     0.0  \n",
              "2022-05-31    1.090628     1.0  \n",
              "2022-06-01    1.253042     0.0  \n",
              "\n",
              "[5 rows x 22 columns]"
            ],
            "text/html": [
              "\n",
              "  <div id=\"df-f9625030-e801-419a-9aa0-2545c22d48d2\">\n",
              "    <div class=\"colab-df-container\">\n",
              "      <div>\n",
              "<style scoped>\n",
              "    .dataframe tbody tr th:only-of-type {\n",
              "        vertical-align: middle;\n",
              "    }\n",
              "\n",
              "    .dataframe tbody tr th {\n",
              "        vertical-align: top;\n",
              "    }\n",
              "\n",
              "    .dataframe thead th {\n",
              "        text-align: right;\n",
              "    }\n",
              "</style>\n",
              "<table border=\"1\" class=\"dataframe\">\n",
              "  <thead>\n",
              "    <tr style=\"text-align: right;\">\n",
              "      <th></th>\n",
              "      <th>Open</th>\n",
              "      <th>High</th>\n",
              "      <th>Low</th>\n",
              "      <th>Close</th>\n",
              "      <th>Volume</th>\n",
              "      <th>Returns</th>\n",
              "      <th>Range</th>\n",
              "      <th>Bench_C_Rets</th>\n",
              "      <th>RSI</th>\n",
              "      <th>RSI_Ret</th>\n",
              "      <th>...</th>\n",
              "      <th>DOW</th>\n",
              "      <th>Roll_Rets</th>\n",
              "      <th>Avg_Range</th>\n",
              "      <th>Returns_T1</th>\n",
              "      <th>Range_T1</th>\n",
              "      <th>RSI_Ret_T1</th>\n",
              "      <th>Returns_T2</th>\n",
              "      <th>Range_T2</th>\n",
              "      <th>RSI_Ret_T2</th>\n",
              "      <th>TARGET</th>\n",
              "    </tr>\n",
              "    <tr>\n",
              "      <th>Date</th>\n",
              "      <th></th>\n",
              "      <th></th>\n",
              "      <th></th>\n",
              "      <th></th>\n",
              "      <th></th>\n",
              "      <th></th>\n",
              "      <th></th>\n",
              "      <th></th>\n",
              "      <th></th>\n",
              "      <th></th>\n",
              "      <th></th>\n",
              "      <th></th>\n",
              "      <th></th>\n",
              "      <th></th>\n",
              "      <th></th>\n",
              "      <th></th>\n",
              "      <th></th>\n",
              "      <th></th>\n",
              "      <th></th>\n",
              "      <th></th>\n",
              "      <th></th>\n",
              "    </tr>\n",
              "  </thead>\n",
              "  <tbody>\n",
              "    <tr>\n",
              "      <th>2022-05-28</th>\n",
              "      <td>-0.021487</td>\n",
              "      <td>-0.018129</td>\n",
              "      <td>0.008047</td>\n",
              "      <td>28814.900391</td>\n",
              "      <td>-0.029042</td>\n",
              "      <td>0.006544</td>\n",
              "      <td>0.009117</td>\n",
              "      <td>32.894788</td>\n",
              "      <td>37.238957</td>\n",
              "      <td>1.027560</td>\n",
              "      <td>...</td>\n",
              "      <td>5</td>\n",
              "      <td>-0.298233</td>\n",
              "      <td>0.056286</td>\n",
              "      <td>-0.021856</td>\n",
              "      <td>0.036020</td>\n",
              "      <td>0.949541</td>\n",
              "      <td>-0.009984</td>\n",
              "      <td>0.055632</td>\n",
              "      <td>0.977232</td>\n",
              "      <td>0.0</td>\n",
              "    </tr>\n",
              "    <tr>\n",
              "      <th>2022-05-29</th>\n",
              "      <td>0.013879</td>\n",
              "      <td>0.023707</td>\n",
              "      <td>0.010035</td>\n",
              "      <td>29445.957031</td>\n",
              "      <td>-0.490594</td>\n",
              "      <td>0.021900</td>\n",
              "      <td>0.022777</td>\n",
              "      <td>33.634047</td>\n",
              "      <td>40.613855</td>\n",
              "      <td>1.090628</td>\n",
              "      <td>...</td>\n",
              "      <td>6</td>\n",
              "      <td>-0.247068</td>\n",
              "      <td>0.055605</td>\n",
              "      <td>0.006544</td>\n",
              "      <td>0.009117</td>\n",
              "      <td>1.027560</td>\n",
              "      <td>-0.021856</td>\n",
              "      <td>0.036020</td>\n",
              "      <td>0.949541</td>\n",
              "      <td>1.0</td>\n",
              "    </tr>\n",
              "    <tr>\n",
              "      <th>2022-05-30</th>\n",
              "      <td>0.014593</td>\n",
              "      <td>0.083111</td>\n",
              "      <td>0.016035</td>\n",
              "      <td>31726.390625</td>\n",
              "      <td>1.170788</td>\n",
              "      <td>0.077445</td>\n",
              "      <td>0.090298</td>\n",
              "      <td>36.313300</td>\n",
              "      <td>50.890862</td>\n",
              "      <td>1.253042</td>\n",
              "      <td>...</td>\n",
              "      <td>0</td>\n",
              "      <td>-0.146443</td>\n",
              "      <td>0.057666</td>\n",
              "      <td>0.021900</td>\n",
              "      <td>0.022777</td>\n",
              "      <td>1.090628</td>\n",
              "      <td>0.006544</td>\n",
              "      <td>0.009117</td>\n",
              "      <td>1.027560</td>\n",
              "      <td>0.0</td>\n",
              "    </tr>\n",
              "    <tr>\n",
              "      <th>2022-05-31</th>\n",
              "      <td>0.077454</td>\n",
              "      <td>0.009397</td>\n",
              "      <td>0.067657</td>\n",
              "      <td>31792.310547</td>\n",
              "      <td>-0.146132</td>\n",
              "      <td>0.002078</td>\n",
              "      <td>0.030803</td>\n",
              "      <td>36.391116</td>\n",
              "      <td>51.154006</td>\n",
              "      <td>1.005171</td>\n",
              "      <td>...</td>\n",
              "      <td>1</td>\n",
              "      <td>-0.164364</td>\n",
              "      <td>0.057768</td>\n",
              "      <td>0.077445</td>\n",
              "      <td>0.090298</td>\n",
              "      <td>1.253042</td>\n",
              "      <td>0.021900</td>\n",
              "      <td>0.022777</td>\n",
              "      <td>1.090628</td>\n",
              "      <td>1.0</td>\n",
              "    </tr>\n",
              "    <tr>\n",
              "      <th>2022-06-01</th>\n",
              "      <td>0.002165</td>\n",
              "      <td>-0.009072</td>\n",
              "      <td>-0.057040</td>\n",
              "      <td>29799.080078</td>\n",
              "      <td>0.226536</td>\n",
              "      <td>-0.062695</td>\n",
              "      <td>0.083239</td>\n",
              "      <td>34.041939</td>\n",
              "      <td>43.554422</td>\n",
              "      <td>0.851437</td>\n",
              "      <td>...</td>\n",
              "      <td>2</td>\n",
              "      <td>-0.228625</td>\n",
              "      <td>0.059741</td>\n",
              "      <td>0.002078</td>\n",
              "      <td>0.030803</td>\n",
              "      <td>1.005171</td>\n",
              "      <td>0.077445</td>\n",
              "      <td>0.090298</td>\n",
              "      <td>1.253042</td>\n",
              "      <td>0.0</td>\n",
              "    </tr>\n",
              "  </tbody>\n",
              "</table>\n",
              "<p>5 rows × 22 columns</p>\n",
              "</div>\n",
              "      <button class=\"colab-df-convert\" onclick=\"convertToInteractive('df-f9625030-e801-419a-9aa0-2545c22d48d2')\"\n",
              "              title=\"Convert this dataframe to an interactive table.\"\n",
              "              style=\"display:none;\">\n",
              "        \n",
              "  <svg xmlns=\"http://www.w3.org/2000/svg\" height=\"24px\"viewBox=\"0 0 24 24\"\n",
              "       width=\"24px\">\n",
              "    <path d=\"M0 0h24v24H0V0z\" fill=\"none\"/>\n",
              "    <path d=\"M18.56 5.44l.94 2.06.94-2.06 2.06-.94-2.06-.94-.94-2.06-.94 2.06-2.06.94zm-11 1L8.5 8.5l.94-2.06 2.06-.94-2.06-.94L8.5 2.5l-.94 2.06-2.06.94zm10 10l.94 2.06.94-2.06 2.06-.94-2.06-.94-.94-2.06-.94 2.06-2.06.94z\"/><path d=\"M17.41 7.96l-1.37-1.37c-.4-.4-.92-.59-1.43-.59-.52 0-1.04.2-1.43.59L10.3 9.45l-7.72 7.72c-.78.78-.78 2.05 0 2.83L4 21.41c.39.39.9.59 1.41.59.51 0 1.02-.2 1.41-.59l7.78-7.78 2.81-2.81c.8-.78.8-2.07 0-2.86zM5.41 20L4 18.59l7.72-7.72 1.47 1.35L5.41 20z\"/>\n",
              "  </svg>\n",
              "      </button>\n",
              "      \n",
              "  <style>\n",
              "    .colab-df-container {\n",
              "      display:flex;\n",
              "      flex-wrap:wrap;\n",
              "      gap: 12px;\n",
              "    }\n",
              "\n",
              "    .colab-df-convert {\n",
              "      background-color: #E8F0FE;\n",
              "      border: none;\n",
              "      border-radius: 50%;\n",
              "      cursor: pointer;\n",
              "      display: none;\n",
              "      fill: #1967D2;\n",
              "      height: 32px;\n",
              "      padding: 0 0 0 0;\n",
              "      width: 32px;\n",
              "    }\n",
              "\n",
              "    .colab-df-convert:hover {\n",
              "      background-color: #E2EBFA;\n",
              "      box-shadow: 0px 1px 2px rgba(60, 64, 67, 0.3), 0px 1px 3px 1px rgba(60, 64, 67, 0.15);\n",
              "      fill: #174EA6;\n",
              "    }\n",
              "\n",
              "    [theme=dark] .colab-df-convert {\n",
              "      background-color: #3B4455;\n",
              "      fill: #D2E3FC;\n",
              "    }\n",
              "\n",
              "    [theme=dark] .colab-df-convert:hover {\n",
              "      background-color: #434B5C;\n",
              "      box-shadow: 0px 1px 3px 1px rgba(0, 0, 0, 0.15);\n",
              "      filter: drop-shadow(0px 1px 2px rgba(0, 0, 0, 0.3));\n",
              "      fill: #FFFFFF;\n",
              "    }\n",
              "  </style>\n",
              "\n",
              "      <script>\n",
              "        const buttonEl =\n",
              "          document.querySelector('#df-f9625030-e801-419a-9aa0-2545c22d48d2 button.colab-df-convert');\n",
              "        buttonEl.style.display =\n",
              "          google.colab.kernel.accessAllowed ? 'block' : 'none';\n",
              "\n",
              "        async function convertToInteractive(key) {\n",
              "          const element = document.querySelector('#df-f9625030-e801-419a-9aa0-2545c22d48d2');\n",
              "          const dataTable =\n",
              "            await google.colab.kernel.invokeFunction('convertToInteractive',\n",
              "                                                     [key], {});\n",
              "          if (!dataTable) return;\n",
              "\n",
              "          const docLinkHtml = 'Like what you see? Visit the ' +\n",
              "            '<a target=\"_blank\" href=https://colab.research.google.com/notebooks/data_table.ipynb>data table notebook</a>'\n",
              "            + ' to learn more about interactive tables.';\n",
              "          element.innerHTML = '';\n",
              "          dataTable['output_type'] = 'display_data';\n",
              "          await google.colab.output.renderOutput(dataTable, element);\n",
              "          const docLink = document.createElement('div');\n",
              "          docLink.innerHTML = docLinkHtml;\n",
              "          element.appendChild(docLink);\n",
              "        }\n",
              "      </script>\n",
              "    </div>\n",
              "  </div>\n",
              "  "
            ]
          },
          "metadata": {},
          "execution_count": 4
        }
      ]
    },
    {
      "cell_type": "markdown",
      "source": [
        "TRAIN-TEST-SPLIT"
      ],
      "metadata": {
        "id": "TLK9_pnupPIa"
      }
    },
    {
      "cell_type": "code",
      "source": [
        "# Remove unwanted columns\n",
        "df_tts = df.copy()\n",
        "df_tts.drop(columns=[\"Close\", \"Bench_C_Rets\", \"Open\", \"High\", \"Low\"], inplace=True)"
      ],
      "metadata": {
        "id": "xIU1xY0GpNjF"
      },
      "execution_count": 5,
      "outputs": []
    },
    {
      "cell_type": "code",
      "source": [
        "# Split into Learning (X) and Target (y) Data\n",
        "X = df_tts.iloc[:, : -1]\n",
        "y = df_tts.iloc[:, -1]"
      ],
      "metadata": {
        "id": "qzFqZyjvpR_1"
      },
      "execution_count": 6,
      "outputs": []
    },
    {
      "cell_type": "code",
      "source": [
        "# Perform Train Test Split\n",
        "X_train, X_test, y_train, y_test = train_test_split(X, y, test_size=0.2, random_state=42)\n",
        "print(\"Shape of X_train: \", X_train.shape)\n",
        "print(\"Shape of y_train: \", y_train.shape)"
      ],
      "metadata": {
        "colab": {
          "base_uri": "https://localhost:8080/"
        },
        "id": "U5-fCZA3pTRI",
        "outputId": "5f20c873-9545-47af-c58a-9933a9be81de"
      },
      "execution_count": 7,
      "outputs": [
        {
          "output_type": "stream",
          "name": "stdout",
          "text": [
            "Shape of X_train:  (1558, 16)\n",
            "Shape of y_train:  (1558,)\n"
          ]
        }
      ]
    },
    {
      "cell_type": "markdown",
      "source": [
        "Build Initial Model"
      ],
      "metadata": {
        "id": "-7X-3OzfpVmd"
      }
    },
    {
      "cell_type": "code",
      "source": [
        "# Select type of model to optimize for\n",
        "is_binary = True\n",
        "is_optimise_for_precision = True"
      ],
      "metadata": {
        "id": "VmkjLH8CpUan"
      },
      "execution_count": 8,
      "outputs": []
    },
    {
      "cell_type": "code",
      "source": [
        "# Determine Objective and Eval Metrics\n",
        "if is_binary:\n",
        "    objective = \"binary:logistic\"\n",
        "    eval_metric = \"logloss\"\n",
        "    eval_metric_list = [\"error\", \"logloss\", eval_metric]\n",
        "else:\n",
        "    objective = \"multi:softmax\"\n",
        "    eval_metric = \"mlogloss\"\n",
        "    eval_metric_list = [\"merror\", \"mlogloss\", eval_metric]"
      ],
      "metadata": {
        "id": "jVZp4cwxpaYV"
      },
      "execution_count": 9,
      "outputs": []
    },
    {
      "cell_type": "code",
      "source": [
        "# Refine Eval Metric\n",
        "if is_binary and is_optimise_for_precision:\n",
        "    eval_metric = \"aucpr\"\n",
        "    scoring = \"precision\"\n",
        "elif is_binary and not is_optimise_for_precision:\n",
        "    eval_metric = \"auc\"\n",
        "    scoring = \"f1\"\n",
        "else:\n",
        "    scoring = \"accuracy\""
      ],
      "metadata": {
        "id": "8hzIi9hKpbzM"
      },
      "execution_count": 10,
      "outputs": []
    },
    {
      "cell_type": "code",
      "source": [
        "# Build First Classifier Model 0\n",
        "classifier_0 = XGBClassifier(\n",
        "    objective=objective,\n",
        "    booster=\"gbtree\",\n",
        "    eval_metric=eval_metric,\n",
        "    subsample=0.8,\n",
        "    colsample_bytree=1,\n",
        "    random_state=1,\n",
        "    use_label_encoder=False\n",
        ")"
      ],
      "metadata": {
        "id": "S6k7rWsPpdN7"
      },
      "execution_count": 11,
      "outputs": []
    },
    {
      "cell_type": "markdown",
      "source": [
        "Find Hyperparameters"
      ],
      "metadata": {
        "id": "hqSg-_nTpgjL"
      }
    },
    {
      "cell_type": "code",
      "source": [
        "# Provide Gris for Hyperparams\n",
        "param_grid = {\n",
        "    \"gamma\": [0, 0.1, 0.2, 0.5, 1, 1.5, 2, 3, 6, 12, 20],\n",
        "    \"learning_rate\": [0.01, 0.02, 0.03, 0.05, 0.1, 0.2, 0.3, 0.5, 0.7, 0.8],\n",
        "    \"max_depth\": [1, 2, 3, 4, 5, 6, 8, 12],\n",
        "    \"n_estimators\": [25, 50, 65, 80, 100, 115, 200]\n",
        "}"
      ],
      "metadata": {
        "id": "XcFwHz4mpfye"
      },
      "execution_count": 12,
      "outputs": []
    },
    {
      "cell_type": "markdown",
      "source": [
        "Perform Random Search for Best Hyper parameters"
      ],
      "metadata": {
        "id": "2I_7InyTpsg3"
      }
    },
    {
      "cell_type": "code",
      "source": [
        "grid_search = RandomizedSearchCV(estimator=classifier_0, param_distributions=param_grid, scoring=scoring)\n",
        "best_model = grid_search.fit(X_train, y_train)\n",
        "hyperparams = best_model.best_params_\n",
        "ne = hyperparams[\"n_estimators\"]\n",
        "lr = hyperparams[\"learning_rate\"]\n",
        "md = hyperparams[\"max_depth\"]\n",
        "gm = hyperparams[\"gamma\"]\n",
        "print(\"Recommended Params >>\", f\"ne: {ne},\", f\"lr: {lr}\", f\"md: {md}\", f\"gm: {gm}\")"
      ],
      "metadata": {
        "colab": {
          "base_uri": "https://localhost:8080/"
        },
        "id": "WkCMKGTHpeds",
        "outputId": "420ccaba-41ae-479d-ef4c-6da0c2df5527"
      },
      "execution_count": 13,
      "outputs": [
        {
          "output_type": "stream",
          "name": "stdout",
          "text": [
            "Recommended Params >> ne: 200, lr: 0.2 md: 6 gm: 20\n"
          ]
        }
      ]
    },
    {
      "cell_type": "markdown",
      "source": [
        "Train Model-XGBClassifier"
      ],
      "metadata": {
        "id": "sT2AZ0trpwbI"
      }
    },
    {
      "cell_type": "code",
      "source": [
        "classifier_1 = XGBClassifier(\n",
        "    objective=objective,\n",
        "    booster=\"gbtree\",\n",
        "    eval_metric=eval_metric,\n",
        "    n_estimators=ne,\n",
        "    learning_rate=lr,\n",
        "    max_depth=md,\n",
        "    gamma=gm,\n",
        "    subsample=0.8,\n",
        "    colsample_bytree=1,\n",
        "    random_state=1,\n",
        "    use_label_encoder=False\n",
        ")"
      ],
      "metadata": {
        "id": "GLeZN1nnplsn"
      },
      "execution_count": 14,
      "outputs": []
    },
    {
      "cell_type": "markdown",
      "source": [
        "Fit Model"
      ],
      "metadata": {
        "id": "DiTWBiAxp55X"
      }
    },
    {
      "cell_type": "code",
      "source": [
        "eval_set = [(X_train, y_train)]\n",
        "classifier_1.fit(\n",
        "    X_train,\n",
        "    y_train,\n",
        "    eval_metric=eval_metric_list,\n",
        "    eval_set=eval_set,\n",
        "    verbose=False\n",
        ")"
      ],
      "metadata": {
        "colab": {
          "base_uri": "https://localhost:8080/"
        },
        "id": "Io6EQlm7p0BW",
        "outputId": "ec75da04-a280-42b8-cbdc-55cce759daa4"
      },
      "execution_count": 15,
      "outputs": [
        {
          "output_type": "execute_result",
          "data": {
            "text/plain": [
              "XGBClassifier(eval_metric='aucpr', gamma=20, learning_rate=0.2, max_depth=6,\n",
              "              n_estimators=200, random_state=1, subsample=0.8,\n",
              "              use_label_encoder=False)"
            ]
          },
          "metadata": {},
          "execution_count": 15
        }
      ]
    },
    {
      "cell_type": "markdown",
      "source": [
        "Performance Evaluation"
      ],
      "metadata": {
        "id": "yWuxEkcQp9m6"
      }
    },
    {
      "cell_type": "code",
      "source": [
        "# Get predictions for training data\n",
        "train_yhat = classifier_1.predict(X_train)\n",
        "print(\"Training Preds: \\n\", train_yhat[:5])"
      ],
      "metadata": {
        "colab": {
          "base_uri": "https://localhost:8080/"
        },
        "id": "dFOH2V1Qp7rl",
        "outputId": "c144adeb-c9e9-4070-bdb0-80bc709f53b3"
      },
      "execution_count": 16,
      "outputs": [
        {
          "output_type": "stream",
          "name": "stdout",
          "text": [
            "Training Preds: \n",
            " [0. 0. 0. 1. 0.]\n"
          ]
        }
      ]
    },
    {
      "cell_type": "markdown",
      "source": [
        "Set K-Fold Cross Validation Levels\n"
      ],
      "metadata": {
        "id": "qq9QW1MjqC5q"
      }
    },
    {
      "cell_type": "code",
      "source": [
        "cv = RepeatedStratifiedKFold(n_splits=5, n_repeats=3, random_state=1)"
      ],
      "metadata": {
        "id": "tn-fZ7agqAqO"
      },
      "execution_count": 17,
      "outputs": []
    },
    {
      "cell_type": "code",
      "source": [
        "# Training Results\n",
        "train_results = cross_val_score(classifier_1, X_train, y_train, scoring=scoring, cv=cv, n_jobs=1)"
      ],
      "metadata": {
        "id": "kohQOCMeqFWJ"
      },
      "execution_count": 18,
      "outputs": []
    },
    {
      "cell_type": "code",
      "source": [
        "print(\"Average Accuracy K-Fold: \", round(train_results.mean(), 2))\n",
        "print(\"Std Deviation K-Fold: \", round(train_results.std(), 2))\n",
        "print(\"Precision Score 0: \", round(precision_score(y_train, train_yhat, average=None)[0], 3))\n",
        "print(\"Precision Score 1: \", round(precision_score(y_train, train_yhat, average=None)[1], 3))\n",
        "print(\"\")\n",
        "print(\"Just for reference. Right now, we are only focussed on getting some initial features.\")\n",
        "print(\"If the results look too good to be true, they probably are.\")"
      ],
      "metadata": {
        "colab": {
          "base_uri": "https://localhost:8080/"
        },
        "id": "yAZqkrSjqHFA",
        "outputId": "5f319060-0388-4e1b-b3b8-f7dfc94d03fd"
      },
      "execution_count": 19,
      "outputs": [
        {
          "output_type": "stream",
          "name": "stdout",
          "text": [
            "Average Accuracy K-Fold:  0.69\n",
            "Std Deviation K-Fold:  0.08\n",
            "Precision Score 0:  0.701\n",
            "Precision Score 1:  0.764\n",
            "\n",
            "Just for reference. Right now, we are only focussed on getting some initial features.\n",
            "If the results look too good to be true, they probably are.\n"
          ]
        }
      ]
    },
    {
      "cell_type": "markdown",
      "source": [
        "FEATURE SELECTION"
      ],
      "metadata": {
        "id": "GTun58a7qOcJ"
      }
    },
    {
      "cell_type": "code",
      "source": [
        "importance_labels = X.columns\n",
        "importance_features = classifier_1.feature_importances_"
      ],
      "metadata": {
        "id": "XBlYXrlgqJIo"
      },
      "execution_count": 30,
      "outputs": []
    },
    {
      "cell_type": "code",
      "source": [
        "# Select Best Features\n",
        "mean_feature_importance = importance_features.mean()\n",
        "i = 0\n",
        "recommended_feature_labels = []\n",
        "recommended_feature_score = []\n",
        "for fi in importance_features:\n",
        "    if fi > mean_feature_importance:\n",
        "        recommended_feature_labels.append(importance_labels[i])\n",
        "        recommended_feature_score.append(fi)\n",
        "    i += 1\n",
        "\n",
        "recommended_feature_labels"
      ],
      "metadata": {
        "colab": {
          "base_uri": "https://localhost:8080/"
        },
        "id": "9OVC2qWpqQku",
        "outputId": "b3ee0792-2c4a-4630-e634-ad39013f4223"
      },
      "execution_count": 31,
      "outputs": [
        {
          "output_type": "execute_result",
          "data": {
            "text/plain": [
              "['Returns',\n",
              " 'Range',\n",
              " 'RSI',\n",
              " 'RSI_Ret',\n",
              " 'DOW',\n",
              " 'Roll_Rets',\n",
              " 'Avg_Range',\n",
              " 'RSI_Ret_T1',\n",
              " 'Range_T2',\n",
              " 'RSI_Ret_T2']"
            ]
          },
          "metadata": {},
          "execution_count": 31
        }
      ]
    },
    {
      "cell_type": "code",
      "source": [
        "# Plot Recommended Features\n",
        "fig = plt.figure(figsize=(15, 5))\n",
        "plt.bar(recommended_feature_labels, recommended_feature_score)\n",
        "plt.show()"
      ],
      "metadata": {
        "colab": {
          "base_uri": "https://localhost:8080/",
          "height": 313
        },
        "id": "I-1ndSY-qcS3",
        "outputId": "5b8e13d7-5b7d-46be-8650-20b0b40722bf"
      },
      "execution_count": 32,
      "outputs": [
        {
          "output_type": "display_data",
          "data": {
            "text/plain": [
              "<Figure size 1080x360 with 1 Axes>"
            ],
            "image/png": "[encoded data removed]"
          },
          "metadata": {
            "needs_background": "light"
          }
        }
      ]
    },
    {
      "cell_type": "code",
      "source": [
        "import warnings\n",
        "warnings.simplefilter(action='ignore', category=FutureWarning)\n",
        "import numpy as np\n",
        "import pandas as pd\n",
        "from sklearn.model_selection import train_test_split\n",
        "from xgboost import XGBClassifier\n",
        "from sklearn.model_selection import RandomizedSearchCV, cross_val_score\n",
        "from sklearn.model_selection import RepeatedStratifiedKFold\n",
        "from sklearn.metrics import plot_roc_curve\n",
        "from sklearn.metrics import accuracy_score\n",
        "from sklearn.metrics import classification_report\n",
        "from sklearn.metrics import precision_score\n",
        "from sklearn.metrics import confusion_matrix\n",
        "from sklearn.metrics import ConfusionMatrixDisplay\n",
        "import matplotlib.pyplot as plt\n",
        "from matplotlib.pylab import rcParams\n",
        "from xgboost import plot_tree"
      ],
      "metadata": {
        "id": "gsesIgyJqjvS"
      },
      "execution_count": 33,
      "outputs": []
    },
    {
      "cell_type": "code",
      "source": [
        "df = pd.read_csv(\"BTC-USD.csv\")\n",
        "df.set_index(\"Date\", inplace=True)\n",
        "df.columns"
      ],
      "metadata": {
        "colab": {
          "base_uri": "https://localhost:8080/"
        },
        "id": "za98Qs6xq-ub",
        "outputId": "0923b454-6605-4d96-8d2e-4637552c0fd3"
      },
      "execution_count": 34,
      "outputs": [
        {
          "output_type": "execute_result",
          "data": {
            "text/plain": [
              "Index(['Open', 'High', 'Low', 'Close', 'Volume', 'Returns', 'Range',\n",
              "       'Bench_C_Rets', 'RSI', 'RSI_Ret', 'MA_12', 'MA_21', 'DOW', 'Roll_Rets',\n",
              "       'Avg_Range', 'Returns_T1', 'Range_T1', 'RSI_Ret_T1', 'Returns_T2',\n",
              "       'Range_T2', 'RSI_Ret_T2'],\n",
              "      dtype='object')"
            ]
          },
          "metadata": {},
          "execution_count": 34
        }
      ]
    },
    {
      "cell_type": "code",
      "source": [
        "# Specify Target\n",
        "df.loc[df[\"Range\"].shift(-1) > df[\"Avg_Range\"], \"TARGET\"] = 1\n",
        "df.loc[df[\"Range\"].shift(-1) <= df[\"Avg_Range\"], \"TARGET\"] = 0"
      ],
      "metadata": {
        "id": "RUfZ_QturByh"
      },
      "execution_count": 35,
      "outputs": []
    },
    {
      "cell_type": "code",
      "source": [
        "# Fill NA\n",
        "df[\"TARGET\"].fillna(0, inplace=True)\n",
        "df.tail()"
      ],
      "metadata": {
        "colab": {
          "base_uri": "https://localhost:8080/",
          "height": 418
        },
        "id": "VbGe4imRrDeO",
        "outputId": "6fd33cf3-2b72-4d81-982f-ee6cc5cda3cd"
      },
      "execution_count": 36,
      "outputs": [
        {
          "output_type": "execute_result",
          "data": {
            "text/plain": [
              "                Open      High       Low         Close    Volume   Returns  \\\n",
              "Date                                                                         \n",
              "2022-05-28 -0.021487 -0.018129  0.008047  28814.900391 -0.029042  0.006544   \n",
              "2022-05-29  0.013879  0.023707  0.010035  29445.957031 -0.490594  0.021900   \n",
              "2022-05-30  0.014593  0.083111  0.016035  31726.390625  1.170788  0.077445   \n",
              "2022-05-31  0.077454  0.009397  0.067657  31792.310547 -0.146132  0.002078   \n",
              "2022-06-01  0.002165 -0.009072 -0.057040  29799.080078  0.226536 -0.062695   \n",
              "\n",
              "               Range  Bench_C_Rets        RSI   RSI_Ret  ...  DOW  Roll_Rets  \\\n",
              "Date                                                     ...                   \n",
              "2022-05-28  0.009117     32.894788  37.238957  1.027560  ...    5  -0.298233   \n",
              "2022-05-29  0.022777     33.634047  40.613855  1.090628  ...    6  -0.247068   \n",
              "2022-05-30  0.090298     36.313300  50.890862  1.253042  ...    0  -0.146443   \n",
              "2022-05-31  0.030803     36.391116  51.154006  1.005171  ...    1  -0.164364   \n",
              "2022-06-01  0.083239     34.041939  43.554422  0.851437  ...    2  -0.228625   \n",
              "\n",
              "            Avg_Range  Returns_T1  Range_T1  RSI_Ret_T1  Returns_T2  Range_T2  \\\n",
              "Date                                                                            \n",
              "2022-05-28   0.056286   -0.021856  0.036020    0.949541   -0.009984  0.055632   \n",
              "2022-05-29   0.055605    0.006544  0.009117    1.027560   -0.021856  0.036020   \n",
              "2022-05-30   0.057666    0.021900  0.022777    1.090628    0.006544  0.009117   \n",
              "2022-05-31   0.057768    0.077445  0.090298    1.253042    0.021900  0.022777   \n",
              "2022-06-01   0.059741    0.002078  0.030803    1.005171    0.077445  0.090298   \n",
              "\n",
              "            RSI_Ret_T2  TARGET  \n",
              "Date                            \n",
              "2022-05-28    0.977232     0.0  \n",
              "2022-05-29    0.949541     1.0  \n",
              "2022-05-30    1.027560     0.0  \n",
              "2022-05-31    1.090628     1.0  \n",
              "2022-06-01    1.253042     0.0  \n",
              "\n",
              "[5 rows x 22 columns]"
            ],
            "text/html": [
              "\n",
              "  <div id=\"df-bb3af4c3-e8b0-4c26-8b2d-00305b4dae3b\">\n",
              "    <div class=\"colab-df-container\">\n",
              "      <div>\n",
              "<style scoped>\n",
              "    .dataframe tbody tr th:only-of-type {\n",
              "        vertical-align: middle;\n",
              "    }\n",
              "\n",
              "    .dataframe tbody tr th {\n",
              "        vertical-align: top;\n",
              "    }\n",
              "\n",
              "    .dataframe thead th {\n",
              "        text-align: right;\n",
              "    }\n",
              "</style>\n",
              "<table border=\"1\" class=\"dataframe\">\n",
              "  <thead>\n",
              "    <tr style=\"text-align: right;\">\n",
              "      <th></th>\n",
              "      <th>Open</th>\n",
              "      <th>High</th>\n",
              "      <th>Low</th>\n",
              "      <th>Close</th>\n",
              "      <th>Volume</th>\n",
              "      <th>Returns</th>\n",
              "      <th>Range</th>\n",
              "      <th>Bench_C_Rets</th>\n",
              "      <th>RSI</th>\n",
              "      <th>RSI_Ret</th>\n",
              "      <th>...</th>\n",
              "      <th>DOW</th>\n",
              "      <th>Roll_Rets</th>\n",
              "      <th>Avg_Range</th>\n",
              "      <th>Returns_T1</th>\n",
              "      <th>Range_T1</th>\n",
              "      <th>RSI_Ret_T1</th>\n",
              "      <th>Returns_T2</th>\n",
              "      <th>Range_T2</th>\n",
              "      <th>RSI_Ret_T2</th>\n",
              "      <th>TARGET</th>\n",
              "    </tr>\n",
              "    <tr>\n",
              "      <th>Date</th>\n",
              "      <th></th>\n",
              "      <th></th>\n",
              "      <th></th>\n",
              "      <th></th>\n",
              "      <th></th>\n",
              "      <th></th>\n",
              "      <th></th>\n",
              "      <th></th>\n",
              "      <th></th>\n",
              "      <th></th>\n",
              "      <th></th>\n",
              "      <th></th>\n",
              "      <th></th>\n",
              "      <th></th>\n",
              "      <th></th>\n",
              "      <th></th>\n",
              "      <th></th>\n",
              "      <th></th>\n",
              "      <th></th>\n",
              "      <th></th>\n",
              "      <th></th>\n",
              "    </tr>\n",
              "  </thead>\n",
              "  <tbody>\n",
              "    <tr>\n",
              "      <th>2022-05-28</th>\n",
              "      <td>-0.021487</td>\n",
              "      <td>-0.018129</td>\n",
              "      <td>0.008047</td>\n",
              "      <td>28814.900391</td>\n",
              "      <td>-0.029042</td>\n",
              "      <td>0.006544</td>\n",
              "      <td>0.009117</td>\n",
              "      <td>32.894788</td>\n",
              "      <td>37.238957</td>\n",
              "      <td>1.027560</td>\n",
              "      <td>...</td>\n",
              "      <td>5</td>\n",
              "      <td>-0.298233</td>\n",
              "      <td>0.056286</td>\n",
              "      <td>-0.021856</td>\n",
              "      <td>0.036020</td>\n",
              "      <td>0.949541</td>\n",
              "      <td>-0.009984</td>\n",
              "      <td>0.055632</td>\n",
              "      <td>0.977232</td>\n",
              "      <td>0.0</td>\n",
              "    </tr>\n",
              "    <tr>\n",
              "      <th>2022-05-29</th>\n",
              "      <td>0.013879</td>\n",
              "      <td>0.023707</td>\n",
              "      <td>0.010035</td>\n",
              "      <td>29445.957031</td>\n",
              "      <td>-0.490594</td>\n",
              "      <td>0.021900</td>\n",
              "      <td>0.022777</td>\n",
              "      <td>33.634047</td>\n",
              "      <td>40.613855</td>\n",
              "      <td>1.090628</td>\n",
              "      <td>...</td>\n",
              "      <td>6</td>\n",
              "      <td>-0.247068</td>\n",
              "      <td>0.055605</td>\n",
              "      <td>0.006544</td>\n",
              "      <td>0.009117</td>\n",
              "      <td>1.027560</td>\n",
              "      <td>-0.021856</td>\n",
              "      <td>0.036020</td>\n",
              "      <td>0.949541</td>\n",
              "      <td>1.0</td>\n",
              "    </tr>\n",
              "    <tr>\n",
              "      <th>2022-05-30</th>\n",
              "      <td>0.014593</td>\n",
              "      <td>0.083111</td>\n",
              "      <td>0.016035</td>\n",
              "      <td>31726.390625</td>\n",
              "      <td>1.170788</td>\n",
              "      <td>0.077445</td>\n",
              "      <td>0.090298</td>\n",
              "      <td>36.313300</td>\n",
              "      <td>50.890862</td>\n",
              "      <td>1.253042</td>\n",
              "      <td>...</td>\n",
              "      <td>0</td>\n",
              "      <td>-0.146443</td>\n",
              "      <td>0.057666</td>\n",
              "      <td>0.021900</td>\n",
              "      <td>0.022777</td>\n",
              "      <td>1.090628</td>\n",
              "      <td>0.006544</td>\n",
              "      <td>0.009117</td>\n",
              "      <td>1.027560</td>\n",
              "      <td>0.0</td>\n",
              "    </tr>\n",
              "    <tr>\n",
              "      <th>2022-05-31</th>\n",
              "      <td>0.077454</td>\n",
              "      <td>0.009397</td>\n",
              "      <td>0.067657</td>\n",
              "      <td>31792.310547</td>\n",
              "      <td>-0.146132</td>\n",
              "      <td>0.002078</td>\n",
              "      <td>0.030803</td>\n",
              "      <td>36.391116</td>\n",
              "      <td>51.154006</td>\n",
              "      <td>1.005171</td>\n",
              "      <td>...</td>\n",
              "      <td>1</td>\n",
              "      <td>-0.164364</td>\n",
              "      <td>0.057768</td>\n",
              "      <td>0.077445</td>\n",
              "      <td>0.090298</td>\n",
              "      <td>1.253042</td>\n",
              "      <td>0.021900</td>\n",
              "      <td>0.022777</td>\n",
              "      <td>1.090628</td>\n",
              "      <td>1.0</td>\n",
              "    </tr>\n",
              "    <tr>\n",
              "      <th>2022-06-01</th>\n",
              "      <td>0.002165</td>\n",
              "      <td>-0.009072</td>\n",
              "      <td>-0.057040</td>\n",
              "      <td>29799.080078</td>\n",
              "      <td>0.226536</td>\n",
              "      <td>-0.062695</td>\n",
              "      <td>0.083239</td>\n",
              "      <td>34.041939</td>\n",
              "      <td>43.554422</td>\n",
              "      <td>0.851437</td>\n",
              "      <td>...</td>\n",
              "      <td>2</td>\n",
              "      <td>-0.228625</td>\n",
              "      <td>0.059741</td>\n",
              "      <td>0.002078</td>\n",
              "      <td>0.030803</td>\n",
              "      <td>1.005171</td>\n",
              "      <td>0.077445</td>\n",
              "      <td>0.090298</td>\n",
              "      <td>1.253042</td>\n",
              "      <td>0.0</td>\n",
              "    </tr>\n",
              "  </tbody>\n",
              "</table>\n",
              "<p>5 rows × 22 columns</p>\n",
              "</div>\n",
              "      <button class=\"colab-df-convert\" onclick=\"convertToInteractive('df-bb3af4c3-e8b0-4c26-8b2d-00305b4dae3b')\"\n",
              "              title=\"Convert this dataframe to an interactive table.\"\n",
              "              style=\"display:none;\">\n",
              "        \n",
              "  <svg xmlns=\"http://www.w3.org/2000/svg\" height=\"24px\"viewBox=\"0 0 24 24\"\n",
              "       width=\"24px\">\n",
              "    <path d=\"M0 0h24v24H0V0z\" fill=\"none\"/>\n",
              "    <path d=\"M18.56 5.44l.94 2.06.94-2.06 2.06-.94-2.06-.94-.94-2.06-.94 2.06-2.06.94zm-11 1L8.5 8.5l.94-2.06 2.06-.94-2.06-.94L8.5 2.5l-.94 2.06-2.06.94zm10 10l.94 2.06.94-2.06 2.06-.94-2.06-.94-.94-2.06-.94 2.06-2.06.94z\"/><path d=\"M17.41 7.96l-1.37-1.37c-.4-.4-.92-.59-1.43-.59-.52 0-1.04.2-1.43.59L10.3 9.45l-7.72 7.72c-.78.78-.78 2.05 0 2.83L4 21.41c.39.39.9.59 1.41.59.51 0 1.02-.2 1.41-.59l7.78-7.78 2.81-2.81c.8-.78.8-2.07 0-2.86zM5.41 20L4 18.59l7.72-7.72 1.47 1.35L5.41 20z\"/>\n",
              "  </svg>\n",
              "      </button>\n",
              "      \n",
              "  <style>\n",
              "    .colab-df-container {\n",
              "      display:flex;\n",
              "      flex-wrap:wrap;\n",
              "      gap: 12px;\n",
              "    }\n",
              "\n",
              "    .colab-df-convert {\n",
              "      background-color: #E8F0FE;\n",
              "      border: none;\n",
              "      border-radius: 50%;\n",
              "      cursor: pointer;\n",
              "      display: none;\n",
              "      fill: #1967D2;\n",
              "      height: 32px;\n",
              "      padding: 0 0 0 0;\n",
              "      width: 32px;\n",
              "    }\n",
              "\n",
              "    .colab-df-convert:hover {\n",
              "      background-color: #E2EBFA;\n",
              "      box-shadow: 0px 1px 2px rgba(60, 64, 67, 0.3), 0px 1px 3px 1px rgba(60, 64, 67, 0.15);\n",
              "      fill: #174EA6;\n",
              "    }\n",
              "\n",
              "    [theme=dark] .colab-df-convert {\n",
              "      background-color: #3B4455;\n",
              "      fill: #D2E3FC;\n",
              "    }\n",
              "\n",
              "    [theme=dark] .colab-df-convert:hover {\n",
              "      background-color: #434B5C;\n",
              "      box-shadow: 0px 1px 3px 1px rgba(0, 0, 0, 0.15);\n",
              "      filter: drop-shadow(0px 1px 2px rgba(0, 0, 0, 0.3));\n",
              "      fill: #FFFFFF;\n",
              "    }\n",
              "  </style>\n",
              "\n",
              "      <script>\n",
              "        const buttonEl =\n",
              "          document.querySelector('#df-bb3af4c3-e8b0-4c26-8b2d-00305b4dae3b button.colab-df-convert');\n",
              "        buttonEl.style.display =\n",
              "          google.colab.kernel.accessAllowed ? 'block' : 'none';\n",
              "\n",
              "        async function convertToInteractive(key) {\n",
              "          const element = document.querySelector('#df-bb3af4c3-e8b0-4c26-8b2d-00305b4dae3b');\n",
              "          const dataTable =\n",
              "            await google.colab.kernel.invokeFunction('convertToInteractive',\n",
              "                                                     [key], {});\n",
              "          if (!dataTable) return;\n",
              "\n",
              "          const docLinkHtml = 'Like what you see? Visit the ' +\n",
              "            '<a target=\"_blank\" href=https://colab.research.google.com/notebooks/data_table.ipynb>data table notebook</a>'\n",
              "            + ' to learn more about interactive tables.';\n",
              "          element.innerHTML = '';\n",
              "          dataTable['output_type'] = 'display_data';\n",
              "          await google.colab.output.renderOutput(dataTable, element);\n",
              "          const docLink = document.createElement('div');\n",
              "          docLink.innerHTML = docLinkHtml;\n",
              "          element.appendChild(docLink);\n",
              "        }\n",
              "      </script>\n",
              "    </div>\n",
              "  </div>\n",
              "  "
            ]
          },
          "metadata": {},
          "execution_count": 36
        }
      ]
    },
    {
      "cell_type": "markdown",
      "source": [
        "TRAIN TEST SPLIT"
      ],
      "metadata": {
        "id": "g_zxMEg2rGk8"
      }
    },
    {
      "cell_type": "code",
      "source": [
        "# Feature Selection\n",
        "df_tts = df.copy()\n",
        "df_tts = df_tts[[\"Returns\", \"Range\", \"RSI\", \"RSI_Ret\", \"Returns_T1\", \"RSI_Ret_T1\", \"TARGET\"]]\n",
        "# Split into X and Y Data\n",
        "X = df_tts.iloc[:, : -1]\n",
        "y = df_tts.iloc[:, -1]\n",
        "# Perform Train Test Split (Timeseries based method)\n",
        "train_size_rate = 0.7\n",
        "train_size = int(len(X) * train_size_rate)\n",
        "test_size = len(X) - train_size\n",
        "X_train = X.head(train_size)\n",
        "y_train = y.head(train_size)\n",
        "X_test = X.tail(test_size)\n",
        "y_test = y.tail(test_size)\n",
        "size_check = len(y_test) + len(y_train) == len(X)\n",
        "print(\"Shape of X_train: \", X_train.shape)\n",
        "print(\"Shape of y_train: \", y_train.shape)\n",
        "print(\"Shape of X_test: \", X_test.shape)\n",
        "print(\"Shape of y_test: \", y_test.shape)\n",
        "print(\"Size Matches: \", size_check)"
      ],
      "metadata": {
        "colab": {
          "base_uri": "https://localhost:8080/"
        },
        "id": "rqaUi-B1rGLW",
        "outputId": "503bf4d8-3833-49ca-d683-7948c26d6a53"
      },
      "execution_count": 38,
      "outputs": [
        {
          "output_type": "stream",
          "name": "stdout",
          "text": [
            "Shape of X_train:  (1363, 6)\n",
            "Shape of y_train:  (1363,)\n",
            "Shape of X_test:  (585, 6)\n",
            "Shape of y_test:  (585,)\n",
            "Size Matches:  True\n"
          ]
        }
      ]
    },
    {
      "cell_type": "markdown",
      "source": [
        "BUILD MODEL"
      ],
      "metadata": {
        "id": "bpEPt7mirQ78"
      }
    },
    {
      "cell_type": "code",
      "source": [
        "# Select type of model to optimize for\n",
        "is_binary = True\n",
        "is_optimise_for_precision = True"
      ],
      "metadata": {
        "id": "mqTBW3IFrEbw"
      },
      "execution_count": 39,
      "outputs": []
    },
    {
      "cell_type": "code",
      "source": [
        "# Determine Objective and Eval Metrics\n",
        "if is_binary:\n",
        "    objective = \"binary:logistic\"\n",
        "    eval_metric = \"logloss\"\n",
        "    eval_metric_list = [\"error\", \"logloss\", eval_metric]\n",
        "else:\n",
        "    objective = \"multi:softmax\"\n",
        "    eval_metric = \"mlogloss\"\n",
        "    eval_metric_list = [\"merror\", \"mlogloss\", eval_metric]"
      ],
      "metadata": {
        "id": "CW9NqvPVrWM3"
      },
      "execution_count": 40,
      "outputs": []
    },
    {
      "cell_type": "code",
      "source": [
        "# Refine Eval Metric\n",
        "if is_binary and is_optimise_for_precision:\n",
        "    eval_metric = \"aucpr\"\n",
        "    scoring = \"precision\"\n",
        "elif is_binary and not is_optimise_for_precision:\n",
        "    eval_metric = \"auc\"\n",
        "    scoring = \"f1\"\n",
        "else:\n",
        "    scoring = \"accuracy\""
      ],
      "metadata": {
        "id": "qM0iccDGrXgD"
      },
      "execution_count": 41,
      "outputs": []
    },
    {
      "cell_type": "code",
      "source": [
        "# Hyperparams: ne: 80, lr: 0.01 md: 3 gm: 6\n",
        "ne = 150\n",
        "lr = 0.01\n",
        "md = 2\n",
        "gm = 6"
      ],
      "metadata": {
        "id": "cD2AV-AQrY4h"
      },
      "execution_count": 42,
      "outputs": []
    },
    {
      "cell_type": "markdown",
      "source": [
        "XGBOOST Classifier"
      ],
      "metadata": {
        "id": "VdBPXpuSrc6V"
      }
    },
    {
      "cell_type": "code",
      "source": [
        "classifier = XGBClassifier(\n",
        "    objective=objective,\n",
        "    booster=\"gbtree\",\n",
        "    eval_metric=eval_metric,\n",
        "    n_estimators=ne,\n",
        "    learning_rate=lr,\n",
        "    max_depth=md,\n",
        "    gamma=gm,\n",
        "    subsample=0.8,\n",
        "    colsample_bytree=1,\n",
        "    random_state=1,\n",
        "    use_label_encoder=False\n",
        ")"
      ],
      "metadata": {
        "id": "j1-LlyJvraQZ"
      },
      "execution_count": 43,
      "outputs": []
    },
    {
      "cell_type": "code",
      "source": [
        "# Fit Model\n",
        "eval_set = [(X_train, y_train), (X_test, y_test)]\n",
        "classifier.fit(X_train, y_train, eval_metric=eval_metric_list, eval_set=eval_set, verbose=False)"
      ],
      "metadata": {
        "colab": {
          "base_uri": "https://localhost:8080/"
        },
        "id": "AhXFssJVrfEM",
        "outputId": "746e26cb-ff9d-4fc2-806f-f24d1d442315"
      },
      "execution_count": 44,
      "outputs": [
        {
          "output_type": "execute_result",
          "data": {
            "text/plain": [
              "XGBClassifier(eval_metric='aucpr', gamma=6, learning_rate=0.01, max_depth=2,\n",
              "              n_estimators=150, random_state=1, subsample=0.8,\n",
              "              use_label_encoder=False)"
            ]
          },
          "metadata": {},
          "execution_count": 44
        }
      ]
    },
    {
      "cell_type": "markdown",
      "source": [
        "Make Predictions"
      ],
      "metadata": {
        "id": "K16Bz4Hlri4s"
      }
    },
    {
      "cell_type": "code",
      "source": [
        "# Get Predictions Training\n",
        "train_yhat = classifier.predict(X_train)\n",
        "train_yhat_proba = classifier.predict_proba(X_train)\n",
        "print(\"Preds Training Data: \\n\", train_yhat[:10])\n",
        "print(\"Preds Probabilities Training Data: \\n\", train_yhat_proba[:3])"
      ],
      "metadata": {
        "colab": {
          "base_uri": "https://localhost:8080/"
        },
        "id": "X4yjpZQwrgrh",
        "outputId": "359572f6-bd19-4314-c024-b307dcdbe181"
      },
      "execution_count": 45,
      "outputs": [
        {
          "output_type": "stream",
          "name": "stdout",
          "text": [
            "Preds Training Data: \n",
            " [0. 0. 0. 0. 0. 0. 0. 0. 0. 1.]\n",
            "Preds Probabilities Training Data: \n",
            " [[0.67917484 0.32082516]\n",
            " [0.6628872  0.3371128 ]\n",
            " [0.625505   0.37449503]]\n"
          ]
        }
      ]
    },
    {
      "cell_type": "code",
      "source": [
        "# Get Predictions Test\n",
        "test_yhat = classifier.predict(X_test)\n",
        "test_yhat_proba = classifier.predict_proba(X_test)\n",
        "print(\"Preds Test Data: \\n\", test_yhat[:10])\n",
        "print(\"Preds Probabilities Training Data: \\n\", test_yhat_proba[:3])"
      ],
      "metadata": {
        "colab": {
          "base_uri": "https://localhost:8080/"
        },
        "id": "eEabbDn9rmbm",
        "outputId": "b74e6d1d-6a14-402a-b7ab-1c0f9c909502"
      },
      "execution_count": 46,
      "outputs": [
        {
          "output_type": "stream",
          "name": "stdout",
          "text": [
            "Preds Test Data: \n",
            " [1. 1. 1. 1. 1. 1. 1. 1. 0. 1.]\n",
            "Preds Probabilities Training Data: \n",
            " [[0.39635187 0.6036481 ]\n",
            " [0.39635187 0.6036481 ]\n",
            " [0.3615198  0.6384802 ]]\n"
          ]
        }
      ]
    },
    {
      "cell_type": "code",
      "source": [
        "# Set K-Fold Cross Validation Levels\n",
        "cv = RepeatedStratifiedKFold(n_splits=5, n_repeats=1, random_state=1)"
      ],
      "metadata": {
        "id": "KJlm-fEtrpM2"
      },
      "execution_count": 47,
      "outputs": []
    },
    {
      "cell_type": "code",
      "source": [
        "# Training Results\n",
        "train_results = cross_val_score(classifier, X_train, y_train, scoring=scoring, cv=cv, n_jobs=1)"
      ],
      "metadata": {
        "id": "rQV8hCs5rsG9"
      },
      "execution_count": 48,
      "outputs": []
    },
    {
      "cell_type": "markdown",
      "source": [
        "Evaluation Metrics - Loss and Overfitting"
      ],
      "metadata": {
        "id": "2paSknoirtzb"
      }
    },
    {
      "cell_type": "code",
      "source": [
        "# Retrieve performance metrics\n",
        "results = classifier.evals_result()\n",
        "epochs = len(results[\"validation_0\"][\"error\"])\n",
        "x_axis = range(0, epochs)"
      ],
      "metadata": {
        "id": "tNttjg0GrtJ3"
      },
      "execution_count": 49,
      "outputs": []
    },
    {
      "cell_type": "code",
      "source": [
        "# Plot Log Loss\n",
        "fig, ax = plt.subplots()\n",
        "ax.plot(x_axis, results[\"validation_0\"][\"logloss\"], label=\"Train\")\n",
        "ax.plot(x_axis, results[\"validation_1\"][\"logloss\"], label=\"Test\")\n",
        "ax.legend()\n",
        "plt.ylabel(\"Logloss\")\n",
        "plt.title(\"XGB Logloss\")\n",
        "plt.show()"
      ],
      "metadata": {
        "colab": {
          "base_uri": "https://localhost:8080/",
          "height": 281
        },
        "id": "vxb9oEFxrw0M",
        "outputId": "fd59e262-891c-4e88-fc3b-fa2c7addb5d1"
      },
      "execution_count": 50,
      "outputs": [
        {
          "output_type": "display_data",
          "data": {
            "text/plain": [
              "<Figure size 432x288 with 1 Axes>"
            ],
            "image/png": "[encoded data removed]"
          },
          "metadata": {
            "needs_background": "light"
          }
        }
      ]
    },
    {
      "cell_type": "code",
      "source": [
        "# Plot Classification Error\n",
        "fig, ax = plt.subplots()\n",
        "ax.plot(x_axis, results[\"validation_0\"][\"error\"], label=\"Train\")\n",
        "ax.plot(x_axis, results[\"validation_1\"][\"error\"], label=\"Test\")\n",
        "ax.legend()\n",
        "plt.ylabel(\"Error\")\n",
        "plt.title(\"XGB Error\")\n",
        "plt.show()"
      ],
      "metadata": {
        "colab": {
          "base_uri": "https://localhost:8080/",
          "height": 281
        },
        "id": "AyzalTS-ryBh",
        "outputId": "31b6c8cd-6daf-49fd-8c36-bd570568f447"
      },
      "execution_count": 51,
      "outputs": [
        {
          "output_type": "display_data",
          "data": {
            "text/plain": [
              "<Figure size 432x288 with 1 Axes>"
            ],
            "image/png": "[encoded data removed]"
          },
          "metadata": {
            "needs_background": "light"
          }
        }
      ]
    },
    {
      "cell_type": "markdown",
      "source": [
        "Evaluation Metrics - ROC Curve"
      ],
      "metadata": {
        "id": "kqPe47L_r2Ck"
      }
    },
    {
      "cell_type": "code",
      "source": [
        "# Plot Training ROC Curve\n",
        "plot_roc_curve(classifier, X_train, y_train)"
      ],
      "metadata": {
        "colab": {
          "base_uri": "https://localhost:8080/",
          "height": 296
        },
        "id": "pQDu3LVirzqj",
        "outputId": "2ced6a33-4ea2-4d46-932e-590a9cbd60e9"
      },
      "execution_count": 52,
      "outputs": [
        {
          "output_type": "execute_result",
          "data": {
            "text/plain": [
              "<sklearn.metrics._plot.roc_curve.RocCurveDisplay at 0x7ff9e285d730>"
            ]
          },
          "metadata": {},
          "execution_count": 52
        },
        {
          "output_type": "display_data",
          "data": {
            "text/plain": [
              "<Figure size 432x288 with 1 Axes>"
            ],
            "image/png": "[encoded data removed]"
          },
          "metadata": {
            "needs_background": "light"
          }
        }
      ]
    },
    {
      "cell_type": "code",
      "source": [
        "# Plot Test ROC Curve\n",
        "plot_roc_curve(classifier, X_test, y_test)"
      ],
      "metadata": {
        "colab": {
          "base_uri": "https://localhost:8080/",
          "height": 296
        },
        "id": "UAS3hMunr3pO",
        "outputId": "41f9dc2f-c81d-4b8b-95d8-378042d7713c"
      },
      "execution_count": 53,
      "outputs": [
        {
          "output_type": "execute_result",
          "data": {
            "text/plain": [
              "<sklearn.metrics._plot.roc_curve.RocCurveDisplay at 0x7ff9fd9b4340>"
            ]
          },
          "metadata": {},
          "execution_count": 53
        },
        {
          "output_type": "display_data",
          "data": {
            "text/plain": [
              "<Figure size 432x288 with 1 Axes>"
            ],
            "image/png": "[encoded data removed]"
          },
          "metadata": {
            "needs_background": "light"
          }
        }
      ]
    },
    {
      "cell_type": "markdown",
      "source": [
        "PERFOMANCE EVALUATION"
      ],
      "metadata": {
        "id": "Ox8KgWC2r7ru"
      }
    },
    {
      "cell_type": "code",
      "source": [
        "# Set K-Fold Cross Validation Levels\n",
        "cv = RepeatedStratifiedKFold(n_splits=5, n_repeats=1, random_state=1)"
      ],
      "metadata": {
        "id": "HxbDY5Kbr5I0"
      },
      "execution_count": 54,
      "outputs": []
    },
    {
      "cell_type": "code",
      "source": [
        "# Training and Test Results\n",
        "train_results = cross_val_score(classifier, X_train, y_train, scoring=scoring, cv=cv, n_jobs=-1)\n",
        "test_results = cross_val_score(classifier, X_test, y_test, scoring=scoring, cv=cv, n_jobs=-1)"
      ],
      "metadata": {
        "id": "Pj1JoUlzr-Pt"
      },
      "execution_count": 55,
      "outputs": []
    },
    {
      "cell_type": "code",
      "source": [
        "# Comparison of Results\n",
        "print(\"TRAIN:\")\n",
        "print(\"Average Acc K-Fold\", round(train_results.mean(), 2))\n",
        "print(\"Std Dev K-Fold\", round(train_results.std(), 2))\n",
        "print(\"Precision Score 0\", round(precision_score(y_train, train_yhat, average=None)[0], 3))\n",
        "print(\"Precision Score 1\", round(precision_score(y_train, train_yhat, average=None)[1], 3))\n",
        "print(\"--------------------------------------\")\n",
        "print(\"TEST:\")\n",
        "print(\"Average Acc K-Fold\", round(test_results.mean(), 2))\n",
        "print(\"Std Dev K-Fold\", round(test_results.std(), 2))\n",
        "print(\"Precision Score 0\", round(precision_score(y_test, test_yhat, average=None)[0], 3))\n",
        "print(\"Precision Score 1\", round(precision_score(y_test, test_yhat, average=None)[1], 3))\n",
        "print(\"\")"
      ],
      "metadata": {
        "colab": {
          "base_uri": "https://localhost:8080/"
        },
        "id": "LFmnkLQ1r_rh",
        "outputId": "3754299e-b293-4d29-cfe6-8c2062aed66a"
      },
      "execution_count": 57,
      "outputs": [
        {
          "output_type": "stream",
          "name": "stdout",
          "text": [
            "TRAIN:\n",
            "Average Acc K-Fold 0.69\n",
            "Std Dev K-Fold 0.03\n",
            "Precision Score 0 0.711\n",
            "Precision Score 1 0.718\n",
            "--------------------------------------\n",
            "TEST:\n",
            "Average Acc K-Fold 0.62\n",
            "Std Dev K-Fold 0.1\n",
            "Precision Score 0 0.659\n",
            "Precision Score 1 0.624\n",
            "\n"
          ]
        }
      ]
    },
    {
      "cell_type": "markdown",
      "source": [
        "Evaluation Metrics - Report"
      ],
      "metadata": {
        "id": "oF9Cup9wsLwH"
      }
    },
    {
      "cell_type": "code",
      "source": [
        "print(classification_report(y_train, train_yhat))"
      ],
      "metadata": {
        "colab": {
          "base_uri": "https://localhost:8080/"
        },
        "id": "kxpH81LgsCxy",
        "outputId": "2190991e-f04d-4b89-d090-f8719a7d6ca3"
      },
      "execution_count": 59,
      "outputs": [
        {
          "output_type": "stream",
          "name": "stdout",
          "text": [
            "              precision    recall  f1-score   support\n",
            "\n",
            "         0.0       0.71      0.93      0.80       872\n",
            "         1.0       0.72      0.33      0.45       491\n",
            "\n",
            "    accuracy                           0.71      1363\n",
            "   macro avg       0.71      0.63      0.63      1363\n",
            "weighted avg       0.71      0.71      0.68      1363\n",
            "\n"
          ]
        }
      ]
    },
    {
      "cell_type": "code",
      "source": [
        "print(classification_report(y_test, test_yhat))"
      ],
      "metadata": {
        "colab": {
          "base_uri": "https://localhost:8080/"
        },
        "id": "-oXoo6pLsN8C",
        "outputId": "fa2e0778-4080-41dc-a03e-8288593f9519"
      },
      "execution_count": 60,
      "outputs": [
        {
          "output_type": "stream",
          "name": "stdout",
          "text": [
            "              precision    recall  f1-score   support\n",
            "\n",
            "         0.0       0.66      0.89      0.76       357\n",
            "         1.0       0.62      0.28      0.38       228\n",
            "\n",
            "    accuracy                           0.65       585\n",
            "   macro avg       0.64      0.58      0.57       585\n",
            "weighted avg       0.65      0.65      0.61       585\n",
            "\n"
          ]
        }
      ]
    },
    {
      "cell_type": "markdown",
      "source": [
        "Performance Evaluation - Confusion Matrix"
      ],
      "metadata": {
        "id": "tXquKpJAsSfo"
      }
    },
    {
      "cell_type": "code",
      "source": [
        "# Training Confusion Matrix\n",
        "cm_train = confusion_matrix(y_train, train_yhat)\n",
        "ConfusionMatrixDisplay(cm_train).plot()"
      ],
      "metadata": {
        "colab": {
          "base_uri": "https://localhost:8080/",
          "height": 298
        },
        "id": "GaKmiRBVsRQ5",
        "outputId": "14f611dc-c006-4721-fd2c-3619cac5c5a8"
      },
      "execution_count": 63,
      "outputs": [
        {
          "output_type": "execute_result",
          "data": {
            "text/plain": [
              "<sklearn.metrics._plot.confusion_matrix.ConfusionMatrixDisplay at 0x7ff9e2071c40>"
            ]
          },
          "metadata": {},
          "execution_count": 63
        },
        {
          "output_type": "display_data",
          "data": {
            "text/plain": [
              "<Figure size 432x288 with 2 Axes>"
            ],
            "image/png": "[encoded data removed]"
          },
          "metadata": {
            "needs_background": "light"
          }
        }
      ]
    },
    {
      "cell_type": "code",
      "source": [
        "# Test Confusion Matrix\n",
        "cm_test = confusion_matrix(y_test, test_yhat)\n",
        "ConfusionMatrixDisplay(cm_test).plot()"
      ],
      "metadata": {
        "colab": {
          "base_uri": "https://localhost:8080/",
          "height": 296
        },
        "id": "zT51bGpQsVCW",
        "outputId": "8482a161-ff50-4c6b-c258-73d51ffe7944"
      },
      "execution_count": 64,
      "outputs": [
        {
          "output_type": "execute_result",
          "data": {
            "text/plain": [
              "<sklearn.metrics._plot.confusion_matrix.ConfusionMatrixDisplay at 0x7ff9e15cc1f0>"
            ]
          },
          "metadata": {},
          "execution_count": 64
        },
        {
          "output_type": "display_data",
          "data": {
            "text/plain": [
              "<Figure size 432x288 with 2 Axes>"
            ],
            "image/png": "[encoded data removed]"
          },
          "metadata": {
            "needs_background": "light"
          }
        }
      ]
    },
    {
      "cell_type": "markdown",
      "source": [
        "FEATURE IMPORTANCE"
      ],
      "metadata": {
        "id": "86NZelQ0sc3Y"
      }
    },
    {
      "cell_type": "code",
      "source": [
        "# Plot Feature Importances\n",
        "fig = plt.figure(figsize=(22, 5))\n",
        "importance_labels = X.columns\n",
        "importance_features = classifier.feature_importances_\n",
        "plt.bar(importance_labels, importance_features)\n",
        "plt.show()"
      ],
      "metadata": {
        "colab": {
          "base_uri": "https://localhost:8080/",
          "height": 221
        },
        "id": "XiqztI5AsWnD",
        "outputId": "144352d7-d265-44f8-abe4-192c9e6b7c7d"
      },
      "execution_count": 66,
      "outputs": [
        {
          "output_type": "display_data",
          "data": {
            "text/plain": [
              "<Figure size 1584x360 with 1 Axes>"
            ],
            "image/png": "[encoded data removed]"
          },
          "metadata": {
            "needs_background": "light"
          }
        }
      ]
    },
    {
      "cell_type": "markdown",
      "source": [
        "FINAL XGBOOST TREE"
      ],
      "metadata": {
        "id": "zFYHjb0cslDa"
      }
    },
    {
      "cell_type": "code",
      "source": [
        "rcParams[\"figure.figsize\"] = 80, 50\n",
        "plot_tree(classifier)"
      ],
      "metadata": {
        "colab": {
          "base_uri": "https://localhost:8080/",
          "height": 439
        },
        "id": "zFcA5aHVsf6f",
        "outputId": "b3c5819b-b8d7-4050-e659-a650968fbd74"
      },
      "execution_count": 67,
      "outputs": [
        {
          "output_type": "execute_result",
          "data": {
            "text/plain": [
              "<matplotlib.axes._subplots.AxesSubplot at 0x7ff9e0903e50>"
            ]
          },
          "metadata": {},
          "execution_count": 67
        },
        {
          "output_type": "display_data",
          "data": {
            "text/plain": [
              "<Figure size 5760x3600 with 1 Axes>"
            ],
            "image/png": "[encoded data removed]"
          },
          "metadata": {
            "needs_background": "light"
          }
        }
      ]
    },
    {
      "cell_type": "code",
      "source": [],
      "metadata": {
        "id": "6RgwxOn6spdV"
      },
      "execution_count": null,
      "outputs": []
    }
  ]
}